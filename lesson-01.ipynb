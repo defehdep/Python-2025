{
 "cells": [
  {
   "cell_type": "code",
   "execution_count": 19,
   "id": "2a3a3b30-2496-48e4-a8cd-ee8685db804b",
   "metadata": {},
   "outputs": [],
   "source": [
    "import numpy as np"
   ]
  },
  {
   "cell_type": "code",
   "execution_count": 118,
   "id": "680f4b59-9bca-4458-a8e9-1e3c0b570610",
   "metadata": {},
   "outputs": [
    {
     "name": "stdout",
     "output_type": "stream",
     "text": [
      "88\n",
      "<class 'array.array'>\n",
      "array('i', [2, 3])\n"
     ]
    }
   ],
   "source": [
    "import sys\n",
    "import array\n",
    "a = array.array('i', [2,3])\n",
    "print(sys.getsizeof(a))\n",
    "print (type(a))\n",
    "print(a)"
   ]
  },
  {
   "cell_type": "code",
   "execution_count": 68,
   "id": "d3ca959f-44f7-4107-9c69-fc6883a29c3c",
   "metadata": {},
   "outputs": [
    {
     "name": "stdout",
     "output_type": "stream",
     "text": [
      "[0.   0.25 0.5  0.75 1.  ]\n"
     ]
    }
   ],
   "source": [
    "array = np.linspace(0, 1, 5)\n",
    "print(array)"
   ]
  },
  {
   "cell_type": "code",
   "execution_count": 70,
   "id": "c5f3320f-5ba9-4ab9-b184-6230bf1a9838",
   "metadata": {},
   "outputs": [
    {
     "name": "stdout",
     "output_type": "stream",
     "text": [
      "[0.58965083 0.71105105 0.99866984 0.69150453 0.87825838]\n"
     ]
    }
   ],
   "source": [
    "array_gauss = np.random.uniform(0, 1, 5)\n",
    "print(array_gauss)"
   ]
  },
  {
   "cell_type": "code",
   "execution_count": 72,
   "id": "b881760b-d886-488a-b495-67583e84b740",
   "metadata": {},
   "outputs": [
    {
     "name": "stdout",
     "output_type": "stream",
     "text": [
      "[ 1.29556057 -0.12946221 -0.9139434  -0.66265407 -0.28310029]\n"
     ]
    }
   ],
   "source": [
    "array_normal = np.random.normal(0, 1, 5)\n",
    "print(array_normal)"
   ]
  },
  {
   "cell_type": "code",
   "execution_count": 74,
   "id": "b6922206-fa82-4f76-9573-4b09d516d3bf",
   "metadata": {},
   "outputs": [
    {
     "name": "stdout",
     "output_type": "stream",
     "text": [
      "[3 9 7 5 3]\n"
     ]
    }
   ],
   "source": [
    "array_random = np.random.randint(0, 10, 5)\n",
    "print(array_random)"
   ]
  },
  {
   "cell_type": "code",
   "execution_count": 98,
   "id": "16052262-41e6-4652-aec7-d386d71160e4",
   "metadata": {},
   "outputs": [
    {
     "data": {
      "text/plain": [
       "array([[ 1,  2,  3,  4],\n",
       "       [ 4,  5,  6,  7],\n",
       "       [ 7,  8,  9, 10]])"
      ]
     },
     "execution_count": 98,
     "metadata": {},
     "output_type": "execute_result"
    }
   ],
   "source": [
    "arr = np.array([[1,2,3,4],[4,5,6,7],[7,8,9,10]])\n",
    "arr"
   ]
  },
  {
   "cell_type": "code",
   "execution_count": 100,
   "id": "66e02db7-6add-4cf6-a51d-aed9f244a767",
   "metadata": {},
   "outputs": [
    {
     "name": "stdout",
     "output_type": "stream",
     "text": [
      "[[1 2 3]\n",
      " [4 5 6]]\n"
     ]
    }
   ],
   "source": [
    "print(arr[:2,:3])"
   ]
  },
  {
   "cell_type": "code",
   "execution_count": 102,
   "id": "1a10ebf4-d4ec-432f-9980-4b0df7968e58",
   "metadata": {},
   "outputs": [
    {
     "name": "stdout",
     "output_type": "stream",
     "text": [
      "[2 5 8]\n"
     ]
    }
   ],
   "source": [
    "print(arr[:,1])"
   ]
  },
  {
   "cell_type": "code",
   "execution_count": 104,
   "id": "a2e41a9c-b45c-4f46-aa03-6c9688088859",
   "metadata": {},
   "outputs": [
    {
     "name": "stdout",
     "output_type": "stream",
     "text": [
      "[[10  9  8  7]\n",
      " [ 7  6  5  4]\n",
      " [ 4  3  2  1]]\n"
     ]
    }
   ],
   "source": [
    "print(arr[::-1,::-1])"
   ]
  },
  {
   "cell_type": "code",
   "execution_count": 106,
   "id": "1f87c161-5853-4f1e-9519-03b4a725a0ba",
   "metadata": {},
   "outputs": [
    {
     "name": "stdout",
     "output_type": "stream",
     "text": [
      "[2 5 8]\n"
     ]
    }
   ],
   "source": [
    "print(arr[:,1])"
   ]
  },
  {
   "cell_type": "code",
   "execution_count": 108,
   "id": "fb185d84-2154-4a51-9aa9-3bd4b9a614e2",
   "metadata": {},
   "outputs": [
    {
     "name": "stdout",
     "output_type": "stream",
     "text": [
      "[ 7  8  9 10]\n"
     ]
    }
   ],
   "source": [
    "print(arr[2,:])"
   ]
  },
  {
   "cell_type": "code",
   "execution_count": 154,
   "id": "0b3302ef-6699-44b7-b252-029cfdb3c10d",
   "metadata": {},
   "outputs": [
    {
     "name": "stdout",
     "output_type": "stream",
     "text": [
      "[100   2   3]\n",
      "[1 2 3 4 5]\n"
     ]
    }
   ],
   "source": [
    "a = np.array([1,2,3,4,5])\n",
    "b = a[:3].copy()\n",
    "b[0] = 100\n",
    "print(c)\n",
    "print(a)"
   ]
  },
  {
   "cell_type": "code",
   "execution_count": 172,
   "id": "5a9c6f17-0083-4d56-8fe1-aa2d4c08d825",
   "metadata": {},
   "outputs": [
    {
     "name": "stdout",
     "output_type": "stream",
     "text": [
      "[1 2 3 4 5]\n",
      "[[1]\n",
      " [2]\n",
      " [3]\n",
      " [4]\n",
      " [5]]\n",
      "[[1 2 3 4 5]]\n"
     ]
    }
   ],
   "source": [
    "a = np.array([1,2,3,4,5])\n",
    "stolb = a[:, np.newaxis]\n",
    "stroka = a[np.newaxis, :]\n",
    "print(a)\n",
    "print(stolb)\n",
    "print(stroka)"
   ]
  },
  {
   "cell_type": "code",
   "execution_count": 210,
   "id": "e9547a16-fe74-4564-a955-cc4d96bf7c79",
   "metadata": {},
   "outputs": [
    {
     "name": "stdout",
     "output_type": "stream",
     "text": [
      "[[[1 0]\n",
      "  [2 8]\n",
      "  [3 0]]\n",
      "\n",
      " [[4 7]\n",
      "  [5 8]\n",
      "  [6 9]]\n",
      "\n",
      " [[7 0]\n",
      "  [0 3]\n",
      "  [0 1]]]\n"
     ]
    }
   ],
   "source": [
    "a = np.array([[1,2,3],[4,5,6],[7,0,0]])\n",
    "b = np.array([[0,8,0],[7,8,9],[0,3,1]])\n",
    "c = np.dstack([a,b])\n",
    "print(c)"
   ]
  },
  {
   "cell_type": "code",
   "execution_count": 212,
   "id": "13903fc5-6220-4453-aef1-732a218688de",
   "metadata": {},
   "outputs": [
    {
     "name": "stdout",
     "output_type": "stream",
     "text": [
      "[[  1   2   3   4   5   6   7   8   9  10]\n",
      " [  2   4   6   8  10  12  14  16  18  20]\n",
      " [  3   6   9  12  15  18  21  24  27  30]\n",
      " [  4   8  12  16  20  24  28  32  36  40]\n",
      " [  5  10  15  20  25  30  35  40  45  50]\n",
      " [  6  12  18  24  30  36  42  48  54  60]\n",
      " [  7  14  21  28  35  42  49  56  63  70]\n",
      " [  8  16  24  32  40  48  56  64  72  80]\n",
      " [  9  18  27  36  45  54  63  72  81  90]\n",
      " [ 10  20  30  40  50  60  70  80  90 100]]\n"
     ]
    }
   ],
   "source": [
    "x = np.arange(1,11)\n",
    "print(np.multiply.outer(x,x))"
   ]
  },
  {
   "cell_type": "code",
   "execution_count": 214,
   "id": "55e75a4f-547c-4fb7-bf57-1de6e184b7c7",
   "metadata": {},
   "outputs": [
    {
     "name": "stdout",
     "output_type": "stream",
     "text": [
      "[1 2 3 4 5 6]\n",
      "[array([1, 2]), array([3, 4]), array([5, 6])]\n",
      "[array([[1, 2, 3]]), array([[4, 5, 6]]), array([[7, 8, 9]])]\n",
      "[array([[1],\n",
      "       [4],\n",
      "       [7]]), array([[2],\n",
      "       [5],\n",
      "       [8]]), array([[3],\n",
      "       [6],\n",
      "       [9]])]\n",
      "[array([[[1],\n",
      "        [2],\n",
      "        [3]],\n",
      "\n",
      "       [[4],\n",
      "        [5],\n",
      "        [6]],\n",
      "\n",
      "       [[7],\n",
      "        [0],\n",
      "        [0]]]), array([[[0],\n",
      "        [8],\n",
      "        [0]],\n",
      "\n",
      "       [[7],\n",
      "        [8],\n",
      "        [9]],\n",
      "\n",
      "       [[0],\n",
      "        [3],\n",
      "        [1]]])]\n"
     ]
    }
   ],
   "source": [
    "x = np.array([1, 2, 3, 4, 5, 6])\n",
    "print(x)\n",
    "print(np.split(x, 3))\n",
    "y = np.array([[1, 2, 3],\n",
    "              [4, 5, 6],\n",
    "              [7, 8, 9]])\n",
    "print(np.vsplit(y, 3))\n",
    "print(np.hsplit(y, 3))\n",
    "print(np.dsplit(c, 2))"
   ]
  },
  {
   "cell_type": "code",
   "execution_count": 240,
   "id": "e1574856-2abf-4c5f-a955-b6ba9ca98a82",
   "metadata": {},
   "outputs": [
    {
     "name": "stdout",
     "output_type": "stream",
     "text": [
      "[2 4 6]\n",
      "[9 8 7]\n",
      "[1 0 1]\n",
      "[0 1 1]\n",
      "[1 4 9]\n",
      "[0.84147098 0.90929743 0.14112001]\n",
      "[0.         0.69314718 1.09861229]\n",
      "[ 2.71828183  7.3890561  20.08553692]\n"
     ]
    }
   ],
   "source": [
    "x = np.array([1,2,3])\n",
    "print(x*2)\n",
    "print(abs(x-10))\n",
    "print(x%2)\n",
    "print(x//2)\n",
    "print(x**2)\n",
    "print(np.sin(x))\n",
    "print(np.log(x))\n",
    "print(np.exp(x))"
   ]
  },
  {
   "cell_type": "code",
   "execution_count": null,
   "id": "dfdada24-02f9-47e4-9d9f-dfdd4c026765",
   "metadata": {},
   "outputs": [],
   "source": []
  }
 ],
 "metadata": {
  "kernelspec": {
   "display_name": "Python 3 (ipykernel)",
   "language": "python",
   "name": "python3"
  },
  "language_info": {
   "codemirror_mode": {
    "name": "ipython",
    "version": 3
   },
   "file_extension": ".py",
   "mimetype": "text/x-python",
   "name": "python",
   "nbconvert_exporter": "python",
   "pygments_lexer": "ipython3",
   "version": "3.12.7"
  }
 },
 "nbformat": 4,
 "nbformat_minor": 5
}
