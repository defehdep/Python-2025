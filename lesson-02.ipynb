{
 "cells": [
  {
   "cell_type": "code",
   "execution_count": 5,
   "id": "a96cd3f1-0055-40eb-a2cf-6478793f828b",
   "metadata": {},
   "outputs": [],
   "source": [
    "import numpy as np"
   ]
  },
  {
   "cell_type": "code",
   "execution_count": 27,
   "id": "7614fbe3-f416-4f0d-bf35-991e96bd0339",
   "metadata": {},
   "outputs": [
    {
     "name": "stdout",
     "output_type": "stream",
     "text": [
      "[0.51182162 0.9504637  0.14415961 0.94864945 0.31183145 0.42332645\n",
      " 0.82770259 0.40919914 0.54959369 0.02755911 0.75351311 0.53814331\n",
      " 0.32973172 0.7884287  0.30319483 0.45349789 0.1340417  0.40311299\n",
      " 0.20345524 0.26231334 0.75036467 0.28040876 0.48519097 0.9807372\n",
      " 0.96165719 0.72478994 0.54122686 0.2768912  0.16065201 0.96992541\n",
      " 0.51606859 0.11586561 0.62348976 0.77668311 0.6130033  0.9172977\n",
      " 0.03959288 0.52858926 0.45933588 0.06234958 0.64132817 0.85263284\n",
      " 0.59294102 0.26009745 0.83988152 0.50949588 0.51088888 0.75303021\n",
      " 0.14792204 0.81962672]\n"
     ]
    }
   ],
   "source": [
    "# Сумммирование значений\n",
    "rng = np.random.default_rng(1)\n",
    "s = rng.random(50)\n",
    "print(s)"
   ]
  },
  {
   "cell_type": "code",
   "execution_count": 29,
   "id": "5570fe79-1828-45e7-ba44-7ced0b993956",
   "metadata": {},
   "outputs": [
    {
     "name": "stdout",
     "output_type": "stream",
     "text": [
      "25.985704258037675\n",
      "25.98570425803768\n"
     ]
    }
   ],
   "source": [
    "print(sum(s))\n",
    "print(np.sum(s))"
   ]
  },
  {
   "cell_type": "code",
   "execution_count": 35,
   "id": "b8dafb12-496b-45c5-8e30-5c0f63bb47b8",
   "metadata": {},
   "outputs": [
    {
     "name": "stdout",
     "output_type": "stream",
     "text": [
      "55\n",
      "[ 7  9 11 13 15]\n",
      "[15 40]\n"
     ]
    }
   ],
   "source": [
    "a = np.array([\n",
    "    [1,2,3,4,5],\n",
    "    [6,7,8,9,10]\n",
    "])\n",
    "print(np.sum(a))\n",
    "print(np.sum(a, axis = 0)) # сумма по столбцам\n",
    "print(np.sum(a, axis = 1)) # сумма по строкам"
   ]
  },
  {
   "cell_type": "code",
   "execution_count": 45,
   "id": "2703739f-2b64-41a2-adab-a52122d9ebf5",
   "metadata": {},
   "outputs": [
    {
     "name": "stdout",
     "output_type": "stream",
     "text": [
      "1\n",
      "[1 2 3 4 5]\n",
      "1\n",
      "[1 6]\n"
     ]
    }
   ],
   "source": [
    "print(np.min(a))\n",
    "print(np.min(a, axis = 0)) # мин по столбцам\n",
    "print(a.min())\n",
    "print(a.min(1))"
   ]
  },
  {
   "cell_type": "code",
   "execution_count": 57,
   "id": "4cb2e3c1-d9a0-41c9-a3f4-e41fd734005e",
   "metadata": {},
   "outputs": [
    {
     "name": "stdout",
     "output_type": "stream",
     "text": [
      "[6 7 8]\n",
      "[6 7 8]\n"
     ]
    }
   ],
   "source": [
    "# Транслирование\n",
    "\n",
    "a = np.array([1,2,3])\n",
    "b = np.array([5,5,5])\n",
    "\n",
    "print(a+b)\n",
    "print(a+5)"
   ]
  },
  {
   "cell_type": "code",
   "execution_count": 65,
   "id": "e269d7b7-e198-4970-a647-1eda5a15daa7",
   "metadata": {},
   "outputs": [
    {
     "name": "stdout",
     "output_type": "stream",
     "text": [
      "[[1. 1. 1.]\n",
      " [1. 1. 1.]]\n",
      "[0 1 2]\n",
      "2 (2, 3)\n"
     ]
    }
   ],
   "source": [
    "# Правила\n",
    "# 1. Если размерности массивов отличаются, то форма массива с меньшей размерностью дополняется 1 с левой стороны\n",
    "# 2. Если формы массивов не совпадают в каком-то измерении, то если у массива форма равна 1, то он \"растягивается\" до соответствующей формы\n",
    "# 3. Если в каком-либо измерении размеры отличаются и ни в одном из них не равен 1, то генерируется ошибка\n",
    "\n",
    "#a = np.array([[1,2,3],[4,5,6]])\n",
    "#b = np.array([5])\n",
    "#print(a.ndim, a.shape)\n",
    "\n",
    "a = np.ones((2,3))\n",
    "b = np.arange(3)\n",
    "\n",
    "print(a)\n",
    "print(b)\n",
    "\n",
    "print(a.ndim, a.shape)"
   ]
  },
  {
   "cell_type": "code",
   "execution_count": 79,
   "id": "176d5158-2d41-4f49-a045-2a6866d43d95",
   "metadata": {},
   "outputs": [
    {
     "name": "stdout",
     "output_type": "stream",
     "text": [
      "[ True  True False False False]\n",
      "[1 2]\n"
     ]
    }
   ],
   "source": [
    "# Маски - булевы массивы\n",
    "\n",
    "x = np.array([1,2,3,4,5])\n",
    "y = print (x < 3)\n",
    "\n",
    "print (x[x<3])"
   ]
  },
  {
   "cell_type": "code",
   "execution_count": 95,
   "id": "fd5fe9be-e84d-4b90-8682-7c1ca95008e3",
   "metadata": {},
   "outputs": [
    {
     "name": "stdout",
     "output_type": "stream",
     "text": [
      "[1 5 7]\n",
      "[[0 1 7]\n",
      " [8 3 1]]\n"
     ]
    }
   ],
   "source": [
    "# Векторизация индекса\n",
    "\n",
    "x = np.array([0,1,2,3,4,5,6,7,8,9])\n",
    "index = [1,5,7]\n",
    "print (x[index])\n",
    "\n",
    "index = [[0,1,7],[8,3,1]]\n",
    "print (x[index])"
   ]
  },
  {
   "cell_type": "code",
   "execution_count": 97,
   "id": "d9454db1-bdbb-4215-95f1-ed8b1e871bc4",
   "metadata": {},
   "outputs": [
    {
     "name": "stdout",
     "output_type": "stream",
     "text": [
      "[[ 0  1  2  3]\n",
      " [ 4  5  6  7]\n",
      " [ 8  9 10 11]]\n"
     ]
    }
   ],
   "source": [
    "# Форма результата отражет форму массива индексов, а не форму исходного массива\n",
    "\n",
    "x = np.arange(12).reshape((3,4))\n",
    "\n",
    "print(x)"
   ]
  },
  {
   "cell_type": "code",
   "execution_count": 103,
   "id": "a75c81a1-584c-45b5-98f2-413a483eafad",
   "metadata": {},
   "outputs": [
    {
     "name": "stdout",
     "output_type": "stream",
     "text": [
      "[6 4 5]\n"
     ]
    }
   ],
   "source": [
    "print(x[1, [2,0,1]])"
   ]
  },
  {
   "cell_type": "code",
   "execution_count": 109,
   "id": "7ff7b1d2-f5d5-4caf-8931-46c33ae2af00",
   "metadata": {},
   "outputs": [
    {
     "name": "stdout",
     "output_type": "stream",
     "text": [
      "[2, 2, 3, 3, 4, 4, 6, 6, 6, 7, 8, 8, 8]\n",
      "[2 2 3 3 4 4 6 6 6 7 8 8 8]\n"
     ]
    }
   ],
   "source": [
    "x = [6,2,8,4,6,2,3,4,8,3,6,8,7]\n",
    "\n",
    "print (sorted(x))\n",
    "print (np.sort(x))"
   ]
  },
  {
   "cell_type": "code",
   "execution_count": 111,
   "id": "af191b8e-7b04-4199-bb07-dfcb85379ed3",
   "metadata": {},
   "outputs": [
    {
     "name": "stdout",
     "output_type": "stream",
     "text": [
      "[('name', '<U10'), ('age', '<i4')]\n"
     ]
    }
   ],
   "source": [
    "# Структурированный массив\n",
    "\n",
    "data = np.zeros(4, dtype = {\n",
    "    'names':(\n",
    "        'name','age'\n",
    "    ),\n",
    "    'formats':(\n",
    "        'U10','i4'\n",
    "    )\n",
    "})\n",
    "print (data.dtype)"
   ]
  },
  {
   "cell_type": "code",
   "execution_count": 115,
   "id": "46ce47e2-fe81-4afb-a928-6a003b7ea730",
   "metadata": {},
   "outputs": [
    {
     "name": "stdout",
     "output_type": "stream",
     "text": [
      "[('name1', 10) ('name2', 20) ('name3', 30) ('name4', 40)]\n"
     ]
    }
   ],
   "source": [
    "name = ['name1','name2','name3','name4']\n",
    "age = [10,20,30,40]\n",
    "data['name'] = name;\n",
    "data['age'] = age;\n",
    "\n",
    "print(data)"
   ]
  },
  {
   "cell_type": "code",
   "execution_count": 117,
   "id": "7ae20e7d-6bc5-439d-9e1f-45126ef9c4b1",
   "metadata": {},
   "outputs": [
    {
     "name": "stdout",
     "output_type": "stream",
     "text": [
      "[False False  True  True]\n"
     ]
    }
   ],
   "source": [
    "print (data['age'] > 20)"
   ]
  },
  {
   "cell_type": "code",
   "execution_count": 119,
   "id": "1610a240-cf69-46d9-96f8-654ab7b858ad",
   "metadata": {},
   "outputs": [
    {
     "name": "stdout",
     "output_type": "stream",
     "text": [
      "['name3' 'name4']\n"
     ]
    }
   ],
   "source": [
    "print (data[data['age'] > 20]['name'])"
   ]
  },
  {
   "cell_type": "code",
   "execution_count": null,
   "id": "8d5ede7a-1ce5-404c-aa09-3b1886caec69",
   "metadata": {},
   "outputs": [],
   "source": []
  }
 ],
 "metadata": {
  "kernelspec": {
   "display_name": "Python 3 (ipykernel)",
   "language": "python",
   "name": "python3"
  },
  "language_info": {
   "codemirror_mode": {
    "name": "ipython",
    "version": 3
   },
   "file_extension": ".py",
   "mimetype": "text/x-python",
   "name": "python",
   "nbconvert_exporter": "python",
   "pygments_lexer": "ipython3",
   "version": "3.12.7"
  }
 },
 "nbformat": 4,
 "nbformat_minor": 5
}
