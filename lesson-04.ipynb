{
 "cells": [
  {
   "cell_type": "code",
   "execution_count": 2,
   "id": "e3390955-2ca4-47fb-ad64-7dfc7c85ff13",
   "metadata": {},
   "outputs": [],
   "source": [
    "import numpy as np\n",
    "import pandas as pd"
   ]
  },
  {
   "cell_type": "code",
   "execution_count": 4,
   "id": "84dc9abe-98a2-4506-835e-962fc8afd686",
   "metadata": {},
   "outputs": [],
   "source": [
    "# Мультииндекс (индекс с размерностью >2)"
   ]
  },
  {
   "cell_type": "code",
   "execution_count": 14,
   "id": "843a2ed6-1d9b-4a15-a69e-20b5a062e819",
   "metadata": {},
   "outputs": [
    {
     "name": "stdout",
     "output_type": "stream",
     "text": [
      "(city_1, 2011)    101\n",
      "(city_1, 2012)    201\n",
      "(city_2, 2011)    102\n",
      "(city_2, 2012)    202\n",
      "(city_3, 2011)    103\n",
      "(city_3, 2012)    203\n",
      "dtype: int64\n"
     ]
    }
   ],
   "source": [
    "index = [\n",
    "    ('city_1',2011),\n",
    "    ('city_1',2012),\n",
    "    ('city_2',2011),\n",
    "    ('city_2',2012),\n",
    "    ('city_3',2011),\n",
    "    ('city_3',2012),\n",
    "]\n",
    "\n",
    "population = [\n",
    "    101,\n",
    "    201,\n",
    "    102,\n",
    "    202,\n",
    "    103,\n",
    "    203\n",
    "]\n",
    "pop = pd.Series(population, index=index)\n",
    "print (pop)"
   ]
  },
  {
   "cell_type": "code",
   "execution_count": 16,
   "id": "76210309-39ef-4d60-b58e-8c3c0bcc4574",
   "metadata": {},
   "outputs": [
    {
     "name": "stdout",
     "output_type": "stream",
     "text": [
      "city_1  2011    101\n",
      "        2012    201\n",
      "city_2  2011    102\n",
      "        2012    202\n",
      "city_3  2011    103\n",
      "        2012    203\n",
      "dtype: int64\n"
     ]
    }
   ],
   "source": [
    "index = pd.MultiIndex.from_tuples(index)\n",
    "pop = pop.reindex(index)\n",
    "print(pop)"
   ]
  },
  {
   "cell_type": "code",
   "execution_count": 50,
   "id": "1f00748b-ce31-4407-bc33-d798b01c4396",
   "metadata": {},
   "outputs": [
    {
     "name": "stdout",
     "output_type": "stream",
     "text": [
      "city_1    201\n",
      "city_2    202\n",
      "city_3    203\n",
      "dtype: int64\n"
     ]
    }
   ],
   "source": [
    "print (pop[:, 2012])"
   ]
  },
  {
   "cell_type": "code",
   "execution_count": 38,
   "id": "2c8bb1a0-f3a0-4c59-909f-ea36e6252dbf",
   "metadata": {},
   "outputs": [
    {
     "name": "stdout",
     "output_type": "stream",
     "text": [
      "        2011  2012\n",
      "city_1   101   201\n",
      "city_2   102   202\n",
      "city_3   103   203\n"
     ]
    }
   ],
   "source": [
    "pop_df = pop.unstack()\n",
    "print (pop_df)"
   ]
  },
  {
   "cell_type": "code",
   "execution_count": 40,
   "id": "fc5171c1-fb93-44a9-b057-2ef8af3671fc",
   "metadata": {},
   "outputs": [
    {
     "name": "stdout",
     "output_type": "stream",
     "text": [
      "city_1  2011    101\n",
      "        2012    201\n",
      "city_2  2011    102\n",
      "        2012    202\n",
      "city_3  2011    103\n",
      "        2012    203\n",
      "dtype: int64\n"
     ]
    }
   ],
   "source": [
    "pop_df = pop_df.stack()\n",
    "print (pop_df)"
   ]
  },
  {
   "cell_type": "code",
   "execution_count": 104,
   "id": "db3b52d2-c98d-4e4f-891d-04e688540b72",
   "metadata": {},
   "outputs": [
    {
     "name": "stdout",
     "output_type": "stream",
     "text": [
      "(city_1, 2011, 1)    101\n",
      "(city_1, 2011, 2)    201\n",
      "(city_1, 2012, 1)    102\n",
      "(city_1, 2012, 2)    202\n",
      "(city_2, 2013, 1)    103\n",
      "(city_2, 2013, 2)    203\n",
      "(city_2, 2014, 1)    104\n",
      "(city_2, 2014, 2)    204\n",
      "(city_3, 2015, 1)    105\n",
      "(city_3, 2015, 2)    205\n",
      "(city_3, 2016, 1)    106\n",
      "(city_3, 2016, 2)    206\n",
      "dtype: int64\n"
     ]
    }
   ],
   "source": [
    "index = [\n",
    "    ('city_1',2011,1),\n",
    "    ('city_1',2011,2),\n",
    "    ('city_1',2012,1),\n",
    "    ('city_1',2012,2),\n",
    "    ('city_2',2013,1),\n",
    "    ('city_2',2013,2),\n",
    "    ('city_2',2014,1),\n",
    "    ('city_2',2014,2),\n",
    "    ('city_3',2015,1),\n",
    "    ('city_3',2015,2),\n",
    "    ('city_3',2016,1),\n",
    "    ('city_3',2016,2),\n",
    "]\n",
    "\n",
    "population = [\n",
    "    101,\n",
    "    201,\n",
    "    102,\n",
    "    202,\n",
    "    103,\n",
    "    203,\n",
    "    104,\n",
    "    204,\n",
    "    105,\n",
    "    205,\n",
    "    106,\n",
    "    206\n",
    "]\n",
    "\n",
    "pop = pd.Series(population, index=index)\n",
    "print (pop)"
   ]
  },
  {
   "cell_type": "code",
   "execution_count": 106,
   "id": "ee48e621-9c12-470a-a78a-9f117b002492",
   "metadata": {},
   "outputs": [
    {
     "name": "stdout",
     "output_type": "stream",
     "text": [
      "city_1  2011  1    101\n",
      "              2    201\n",
      "        2012  1    102\n",
      "              2    202\n",
      "city_2  2013  1    103\n",
      "              2    203\n",
      "        2014  1    104\n",
      "              2    204\n",
      "city_3  2015  1    105\n",
      "              2    205\n",
      "        2016  1    106\n",
      "              2    206\n",
      "dtype: int64\n"
     ]
    }
   ],
   "source": [
    "index = pd.MultiIndex.from_tuples(index)\n",
    "pop = pop.reindex(index)\n",
    "print(pop)"
   ]
  },
  {
   "cell_type": "code",
   "execution_count": 108,
   "id": "50d60704-9a08-4c4e-89de-e4acf98e9306",
   "metadata": {},
   "outputs": [
    {
     "name": "stdout",
     "output_type": "stream",
     "text": [
      "               1    2\n",
      "city_1 2011  101  201\n",
      "       2012  102  202\n",
      "city_2 2013  103  203\n",
      "       2014  104  204\n",
      "city_3 2015  105  205\n",
      "       2016  106  206\n"
     ]
    }
   ],
   "source": [
    "pop_df = pop.unstack()\n",
    "print (pop_df)"
   ]
  },
  {
   "cell_type": "code",
   "execution_count": 120,
   "id": "a2dc06bf-280d-4999-9362-9e2aaf34644a",
   "metadata": {},
   "outputs": [
    {
     "name": "stdout",
     "output_type": "stream",
     "text": [
      "MultiIndex([('a', 1),\n",
      "            ('a', 2),\n",
      "            ('b', 1),\n",
      "            ('b', 2)],\n",
      "           )\n"
     ]
    }
   ],
   "source": [
    "# Способы создания мультииндексов\n",
    "\n",
    "# - список массивов, задющих значение индекса на каждом уровне\n",
    "i1 = pd.MultiIndex.from_arrays(\n",
    "    [\n",
    "        ['a','a','b','b'],\n",
    "        [1,2,1,2]\n",
    "    ]\n",
    ")\n",
    "print(i1)"
   ]
  },
  {
   "cell_type": "code",
   "execution_count": 122,
   "id": "a5e8b2e1-4713-49c4-8f2a-1509978b7f98",
   "metadata": {},
   "outputs": [
    {
     "name": "stdout",
     "output_type": "stream",
     "text": [
      "MultiIndex([('a', 1),\n",
      "            ('a', 2),\n",
      "            ('b', 1),\n",
      "            ('b', 2)],\n",
      "           )\n"
     ]
    }
   ],
   "source": [
    "# - список кортежей, задающих значение индекса в каждой точке\n",
    "i2 = pd.MultiIndex.from_tuples(\n",
    "    [\n",
    "        ('a',1),\n",
    "        ('a',2),\n",
    "        ('b',1),\n",
    "        ('b',2),\n",
    "    ]\n",
    ")\n",
    "print(i2)"
   ]
  },
  {
   "cell_type": "code",
   "execution_count": 124,
   "id": "a5e5a592-dddc-4f2d-bd5e-2290c13108ff",
   "metadata": {},
   "outputs": [
    {
     "name": "stdout",
     "output_type": "stream",
     "text": [
      "MultiIndex([('a', 1),\n",
      "            ('a', 2),\n",
      "            ('b', 1),\n",
      "            ('b', 2)],\n",
      "           )\n"
     ]
    }
   ],
   "source": [
    "# - декартового произведение\n",
    "i3 = pd.MultiIndex.from_product(\n",
    "    [\n",
    "        ['a','b'],\n",
    "        [1,2]\n",
    "    ]\n",
    ")\n",
    "print(i3)"
   ]
  },
  {
   "cell_type": "code",
   "execution_count": 128,
   "id": "52896203-e235-4998-8ee6-f88d59ab9eab",
   "metadata": {},
   "outputs": [
    {
     "name": "stdout",
     "output_type": "stream",
     "text": [
      "MultiIndex([('a', 1),\n",
      "            ('a', 2),\n",
      "            ('b', 1),\n",
      "            ('b', 2),\n",
      "            ('c', 1),\n",
      "            ('c', 2)],\n",
      "           )\n"
     ]
    }
   ],
   "source": [
    "# - описание внутренного представления с помощью \"levels\" и \"codes\"\n",
    "i4 = pd.MultiIndex(\n",
    "    levels = [\n",
    "        ['a','b','c'],\n",
    "        [1,2]\n",
    "    ],\n",
    "    codes = [\n",
    "        [0,0,1,1,2,2], # a a b b c c \n",
    "        [0,1,0,1,0,1]  # 1 2 1 2 1 2 \n",
    "    ]\n",
    ")\n",
    "print(i4)"
   ]
  },
  {
   "cell_type": "code",
   "execution_count": 300,
   "id": "d6d933c6-ecf7-4894-85aa-0c5b0c9393f0",
   "metadata": {},
   "outputs": [
    {
     "name": "stdout",
     "output_type": "stream",
     "text": [
      "city_1  2010     100\n",
      "        2020     200\n",
      "city_2  2010    1001\n",
      "        2020    2001\n",
      "dtype: int64\n"
     ]
    }
   ],
   "source": [
    "# Уровням можно задавать названия\n",
    "data = { \n",
    "    ('city_1', 2010): 100,\n",
    "    ('city_1', 2020): 200,\n",
    "    ('city_2', 2010): 1001,\n",
    "    ('city_2', 2020): 2001\n",
    "}\n",
    "\n",
    "s = pd.Series(data)\n",
    "print (s)"
   ]
  },
  {
   "cell_type": "code",
   "execution_count": 302,
   "id": "c72dcea7-9ed0-48cf-b7fd-d5ddd3411abc",
   "metadata": {},
   "outputs": [
    {
     "name": "stdout",
     "output_type": "stream",
     "text": [
      "city    year\n",
      "city_1  2010     100\n",
      "        2020     200\n",
      "city_2  2010    1001\n",
      "        2020    2001\n",
      "dtype: int64\n"
     ]
    }
   ],
   "source": [
    "s.index.names = ['city','year'] # имена уровней\n",
    "print (s)"
   ]
  },
  {
   "cell_type": "code",
   "execution_count": 459,
   "id": "8fc2042c-286b-45da-9f24-8443848e2b76",
   "metadata": {},
   "outputs": [
    {
     "name": "stdout",
     "output_type": "stream",
     "text": [
      "MultiIndex([('city_1', 2010),\n",
      "            ('city_1', 2020),\n",
      "            ('city_2', 2010),\n",
      "            ('city_2', 2020)],\n",
      "           )\n",
      "MultiIndex([('person_1', 'job_1'),\n",
      "            ('person_1', 'job_2'),\n",
      "            ('person_2', 'job_1'),\n",
      "            ('person_2', 'job_2'),\n",
      "            ('person_3', 'job_1'),\n",
      "            ('person_3', 'job_2')],\n",
      "           names=['worker', 'job'])\n"
     ]
    }
   ],
   "source": [
    "# продолжение\n",
    "\n",
    "index = pd.MultiIndex.from_product(\n",
    "    [\n",
    "        ['city_1','city_2'],\n",
    "        [2010,2020]\n",
    "    ]\n",
    ")\n",
    "print(index)\n",
    "\n",
    "columns = pd.MultiIndex.from_product(\n",
    "    [\n",
    "        ['person_1','person_2','person_3'],\n",
    "        ['job_1','job_2']\n",
    "    ],\n",
    "    names = ['worker', 'job']\n",
    ")\n",
    "print(columns)"
   ]
  },
  {
   "cell_type": "code",
   "execution_count": 437,
   "id": "a1401c66-53f6-47cf-8691-455fe3c1f75a",
   "metadata": {},
   "outputs": [
    {
     "name": "stdout",
     "output_type": "stream",
     "text": [
      "[[0.51182162 0.9504637  0.14415961 0.94864945 0.31183145 0.42332645]\n",
      " [0.82770259 0.40919914 0.54959369 0.02755911 0.75351311 0.53814331]\n",
      " [0.32973172 0.7884287  0.30319483 0.45349789 0.1340417  0.40311299]\n",
      " [0.20345524 0.26231334 0.75036467 0.28040876 0.48519097 0.9807372 ]]\n"
     ]
    }
   ],
   "source": [
    "rng = np.random.default_rng(1)\n",
    "data = rng.random((4,6))\n",
    "print (data)"
   ]
  },
  {
   "cell_type": "code",
   "execution_count": 439,
   "id": "04b5f851-7f88-44e7-b3e9-be22c747a22e",
   "metadata": {},
   "outputs": [
    {
     "name": "stdout",
     "output_type": "stream",
     "text": [
      "worker       person_1            person_2            person_3          \n",
      "job             job_1     job_2     job_1     job_2     job_1     job_2\n",
      "city_1 2010  0.511822  0.950464  0.144160  0.948649  0.311831  0.423326\n",
      "       2020  0.827703  0.409199  0.549594  0.027559  0.753513  0.538143\n",
      "city_2 2010  0.329732  0.788429  0.303195  0.453498  0.134042  0.403113\n",
      "       2020  0.203455  0.262313  0.750365  0.280409  0.485191  0.980737\n"
     ]
    }
   ],
   "source": [
    "data_df = pd.DataFrame(data, index = index, columns = columns)\n",
    "print (data_df)"
   ]
  },
  {
   "cell_type": "code",
   "execution_count": 441,
   "id": "390acf1a-f55e-4586-b56c-8549c1a10f07",
   "metadata": {},
   "outputs": [
    {
     "name": "stdout",
     "output_type": "stream",
     "text": [
      "worker       person_1            person_2            person_3          \n",
      "job             job_1     job_2     job_1     job_2     job_1     job_2\n",
      "city_1 2020  0.827703  0.409199  0.549594  0.027559  0.753513  0.538143\n",
      "city_2 2020  0.203455  0.262313  0.750365  0.280409  0.485191  0.980737\n"
     ]
    }
   ],
   "source": [
    "# 2 задание\n",
    "print (data_df.loc[(slice(None),2020), :]) \n",
    "# slice(None) - используется для выбора всех значений на первом уровне (city), \n",
    "#               а '2020' выбирает только данные для указанной работы\n",
    "#               \":\" - все столбцы"
   ]
  },
  {
   "cell_type": "code",
   "execution_count": 443,
   "id": "a70dd805-e8fa-4a6b-a326-5c2dddadf4b9",
   "metadata": {},
   "outputs": [
    {
     "name": "stdout",
     "output_type": "stream",
     "text": [
      "worker       person_1  person_2  person_3\n",
      "job             job_1     job_1     job_1\n",
      "city_1 2010  0.511822  0.144160  0.311831\n",
      "       2020  0.827703  0.549594  0.753513\n",
      "city_2 2010  0.329732  0.303195  0.134042\n",
      "       2020  0.203455  0.750365  0.485191\n"
     ]
    }
   ],
   "source": [
    "print (data_df.loc[:, (slice(None), 'job_1')]) # slice(None) - все воркеры\n",
    "#               \":\" - все строки"
   ]
  },
  {
   "cell_type": "code",
   "execution_count": 457,
   "id": "6b8aaa52-8fae-44f8-a315-772bec024a46",
   "metadata": {},
   "outputs": [
    {
     "name": "stdout",
     "output_type": "stream",
     "text": [
      "worker       person_1  person_2  person_3\n",
      "job             job_2     job_2     job_2\n",
      "city_1 2010  0.950464  0.948649  0.423326\n",
      "       2020  0.409199  0.027559  0.538143\n"
     ]
    }
   ],
   "source": [
    "print (data_df.loc[('city_1',slice(None)), (slice(None), 'job_2')])"
   ]
  },
  {
   "cell_type": "code",
   "execution_count": 447,
   "id": "ade7e816-4101-45d7-8aa7-28a233c6aaab",
   "metadata": {},
   "outputs": [
    {
     "name": "stdout",
     "output_type": "stream",
     "text": [
      "worker       person_1            person_3          \n",
      "job             job_1     job_2     job_1     job_2\n",
      "city_1 2010  0.511822  0.950464  0.311831  0.423326\n",
      "       2020  0.827703  0.409199  0.753513  0.538143\n",
      "city_2 2010  0.329732  0.788429  0.134042  0.403113\n",
      "       2020  0.203455  0.262313  0.485191  0.980737\n"
     ]
    }
   ],
   "source": [
    "# 3 задание\n",
    "print (data_df.loc[:, (['person_1','person_3'], slice(None))])"
   ]
  },
  {
   "cell_type": "code",
   "execution_count": 453,
   "id": "aee93e55-9f86-46d4-ad31-b678ee9a6e16",
   "metadata": {},
   "outputs": [
    {
     "name": "stdout",
     "output_type": "stream",
     "text": [
      "worker       person_1            person_2          \n",
      "job             job_1     job_2     job_1     job_2\n",
      "city_1 2010  0.511822  0.950464  0.144160  0.948649\n",
      "       2020  0.827703  0.409199  0.549594  0.027559\n"
     ]
    }
   ],
   "source": [
    "# с использованием срезов IndexSlice\n",
    "idx = pd.IndexSlice\n",
    "print (data_df.loc[idx['city_1', :], idx[['person_1', 'person_2'], :]])"
   ]
  },
  {
   "cell_type": "code",
   "execution_count": null,
   "id": "2d5c2236-f514-4cb1-b3a2-cfdea20ef291",
   "metadata": {},
   "outputs": [],
   "source": [
    "# Индексация и срезы (по мультииндексу)"
   ]
  },
  {
   "cell_type": "code",
   "execution_count": 389,
   "id": "61f42399-b771-490c-b493-6fc6d30f29bc",
   "metadata": {},
   "outputs": [
    {
     "name": "stdout",
     "output_type": "stream",
     "text": [
      "city    year\n",
      "city_1  2010     100\n",
      "        2020     200\n",
      "city_2  2010    1001\n",
      "        2020    2001\n",
      "dtype: int64\n"
     ]
    }
   ],
   "source": [
    "data = {\n",
    "    ('city_1', 2010): 100,\n",
    "    ('city_1', 2020): 200,\n",
    "    ('city_2', 2010): 1001,\n",
    "    ('city_2', 2020): 2001\n",
    "}\n",
    "\n",
    "s = pd.Series(data)\n",
    "s.index.names = ['city', 'year'] # название индекса\n",
    "print (s)"
   ]
  },
  {
   "cell_type": "code",
   "execution_count": 395,
   "id": "4e103007-80a9-496a-a747-6d5abb7f9d26",
   "metadata": {},
   "outputs": [
    {
     "name": "stdout",
     "output_type": "stream",
     "text": [
      "year\n",
      "2010    100\n",
      "2020    200\n",
      "dtype: int64\n",
      "100\n"
     ]
    }
   ],
   "source": [
    "print (s['city_1'])\n",
    "print (s['city_1', 2010])"
   ]
  },
  {
   "cell_type": "code",
   "execution_count": 479,
   "id": "963e0e1b-54bf-4518-9871-a765da8f83b9",
   "metadata": {},
   "outputs": [
    {
     "name": "stdout",
     "output_type": "stream",
     "text": [
      "city_1  2011  1    101\n",
      "              2    201\n",
      "        2012  1    102\n",
      "              2    202\n",
      "city_2  2013  1    103\n",
      "              2    203\n",
      "        2014  1    104\n",
      "              2    204\n",
      "city_3  2015  1    105\n",
      "              2    205\n",
      "        2016  1    106\n",
      "              2    206\n",
      "dtype: int64\n"
     ]
    }
   ],
   "source": [
    "# переиндексация\n",
    "print (pop)"
   ]
  },
  {
   "cell_type": "code",
   "execution_count": 481,
   "id": "631bc1a6-8fc7-44e3-bd1c-1c222ed49f70",
   "metadata": {},
   "outputs": [
    {
     "name": "stdout",
     "output_type": "stream",
     "text": [
      "               1    2\n",
      "city_1 2011  101  201\n",
      "       2012  102  202\n",
      "city_2 2013  103  203\n",
      "       2014  104  204\n",
      "city_3 2015  105  205\n",
      "       2016  106  206\n"
     ]
    }
   ],
   "source": [
    "print (pop.unstack())"
   ]
  },
  {
   "cell_type": "code",
   "execution_count": 487,
   "id": "a31162c8-aeb4-405b-83a2-aea6345beabf",
   "metadata": {},
   "outputs": [
    {
     "name": "stdout",
     "output_type": "stream",
     "text": [
      "        city_1  city_2  city_3\n",
      "2011 1   101.0     NaN     NaN\n",
      "     2   201.0     NaN     NaN\n",
      "2012 1   102.0     NaN     NaN\n",
      "     2   202.0     NaN     NaN\n",
      "2013 1     NaN   103.0     NaN\n",
      "     2     NaN   203.0     NaN\n",
      "2014 1     NaN   104.0     NaN\n",
      "     2     NaN   204.0     NaN\n",
      "2015 1     NaN     NaN   105.0\n",
      "     2     NaN     NaN   205.0\n",
      "2016 1     NaN     NaN   106.0\n",
      "     2     NaN     NaN   206.0\n"
     ]
    }
   ],
   "source": [
    "print (pop.unstack(level = 0))"
   ]
  },
  {
   "cell_type": "code",
   "execution_count": 489,
   "id": "4ad59bb1-43ee-4d71-b887-fd6c17690d17",
   "metadata": {},
   "outputs": [
    {
     "name": "stdout",
     "output_type": "stream",
     "text": [
      "           2011   2012   2013   2014   2015   2016\n",
      "city_1 1  101.0  102.0    NaN    NaN    NaN    NaN\n",
      "       2  201.0  202.0    NaN    NaN    NaN    NaN\n",
      "city_2 1    NaN    NaN  103.0  104.0    NaN    NaN\n",
      "       2    NaN    NaN  203.0  204.0    NaN    NaN\n",
      "city_3 1    NaN    NaN    NaN    NaN  105.0  106.0\n",
      "       2    NaN    NaN    NaN    NaN  205.0  206.0\n"
     ]
    }
   ],
   "source": [
    "print (pop.unstack(level = 1))"
   ]
  },
  {
   "cell_type": "code",
   "execution_count": 491,
   "id": "3d50b9ba-046f-4d5b-8afc-2e37908adddf",
   "metadata": {},
   "outputs": [],
   "source": [
    "# Pandas concat"
   ]
  },
  {
   "cell_type": "code",
   "execution_count": 509,
   "id": "fffab138-f723-4a1d-b936-0d45cd2d229d",
   "metadata": {},
   "outputs": [
    {
     "name": "stdout",
     "output_type": "stream",
     "text": [
      "1    a\n",
      "2    b\n",
      "3    c\n",
      "1    d\n",
      "2    e\n",
      "6    f\n",
      "dtype: object\n"
     ]
    }
   ],
   "source": [
    "ser1 = pd.Series(['a','b','c'], index = [1,2,3])\n",
    "ser2 = pd.Series(['d','e','f'], index = [1,2,3])\n",
    "print (pd.concat([ser1, ser2]))"
   ]
  },
  {
   "cell_type": "code",
   "execution_count": 507,
   "id": "447363c5-74c5-403b-9aad-6aa8e028d09d",
   "metadata": {},
   "outputs": [
    {
     "name": "stdout",
     "output_type": "stream",
     "text": [
      "1    a\n",
      "2    b\n",
      "3    c\n",
      "1    d\n",
      "2    e\n",
      "6    f\n",
      "dtype: object\n"
     ]
    }
   ],
   "source": [
    "print (pd.concat([ser1, ser2], axis=0, join='outer'))"
   ]
  },
  {
   "cell_type": "code",
   "execution_count": 515,
   "id": "775f664e-88e4-4f03-b1e4-1e1f6ecab703",
   "metadata": {},
   "outputs": [
    {
     "name": "stdout",
     "output_type": "stream",
     "text": [
      "2    a\n",
      "3    b\n",
      "4    c\n",
      "3    d\n",
      "4    e\n",
      "5    f\n",
      "dtype: object\n"
     ]
    }
   ],
   "source": [
    "ser1 = pd.Series(['a','b','c'], index = [2,3,4])\n",
    "ser2 = pd.Series(['d','e','f'], index = [3,4,5])\n",
    "print (pd.concat([ser1, ser2], axis=0, join='inner'))"
   ]
  },
  {
   "cell_type": "code",
   "execution_count": 6,
   "id": "617c4640-372c-4e6f-a89b-9eb3629b01d8",
   "metadata": {},
   "outputs": [
    {
     "name": "stdout",
     "output_type": "stream",
     "text": [
      "Outer Join Result:\n",
      "1    a\n",
      "2    b\n",
      "3    c\n",
      "3    b\n",
      "4    c\n",
      "5    d\n",
      "dtype: object\n",
      "\n",
      "Inner Join Result:\n",
      "1    a\n",
      "2    b\n",
      "3    c\n",
      "3    b\n",
      "4    c\n",
      "5    d\n",
      "dtype: object\n"
     ]
    }
   ],
   "source": [
    "# Задание 4\n",
    "ser1 = pd.Series(['apple', 'banana', 'cherry'], index=[1, 2, 3])\n",
    "ser2 = pd.Series(['banana', 'cherry', 'date'], index=[3, 4, 5])\n",
    "\n",
    "outer_result = pd.concat([ser1, ser2], join='outer')\n",
    "print(outer_result)\n",
    "\n",
    "inner_result = pd.concat([ser1, ser2], join='inner')\n",
    "print(inner_result)"
   ]
  },
  {
   "cell_type": "code",
   "execution_count": null,
   "id": "84593490-82eb-4861-9183-32db2e14a968",
   "metadata": {},
   "outputs": [],
   "source": []
  }
 ],
 "metadata": {
  "kernelspec": {
   "display_name": "Python 3 (ipykernel)",
   "language": "python",
   "name": "python3"
  },
  "language_info": {
   "codemirror_mode": {
    "name": "ipython",
    "version": 3
   },
   "file_extension": ".py",
   "mimetype": "text/x-python",
   "name": "python",
   "nbconvert_exporter": "python",
   "pygments_lexer": "ipython3",
   "version": "3.12.7"
  }
 },
 "nbformat": 4,
 "nbformat_minor": 5
}
