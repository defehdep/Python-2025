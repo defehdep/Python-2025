{
 "cells": [
  {
   "cell_type": "code",
   "execution_count": 8,
   "id": "fe9a8727-4022-4de3-be17-57879bfa8856",
   "metadata": {},
   "outputs": [],
   "source": [
    "import numpy as np\n",
    "import pandas as pd"
   ]
  },
  {
   "cell_type": "code",
   "execution_count": 10,
   "id": "99ff4507-97f9-4fb3-b958-754811b1d576",
   "metadata": {},
   "outputs": [],
   "source": [
    "# Pandas: Series, DataFrame, Index"
   ]
  },
  {
   "cell_type": "code",
   "execution_count": 20,
   "id": "c119ee00-c334-4861-b805-37983508a637",
   "metadata": {},
   "outputs": [
    {
     "name": "stdout",
     "output_type": "stream",
     "text": [
      "0     0\n",
      "1     5\n",
      "2    10\n",
      "3    15\n",
      "dtype: int64\n",
      "[ 0  5 10 15]\n",
      "RangeIndex(start=0, stop=4, step=1)\n"
     ]
    }
   ],
   "source": [
    "# Pandas Series\n",
    "data = pd.Series([0,5,10,15])\n",
    "print (data)\n",
    "\n",
    "print (data.values)\n",
    "print (data.index)"
   ]
  },
  {
   "cell_type": "code",
   "execution_count": 36,
   "id": "3202483f-da06-4ff5-ac3a-e83a47ed057b",
   "metadata": {},
   "outputs": [
    {
     "name": "stdout",
     "output_type": "stream",
     "text": [
      "10\n",
      "2    10\n",
      "3    15\n",
      "dtype: int64\n"
     ]
    }
   ],
   "source": [
    "print (data[2])\n",
    "print (data[2:4])"
   ]
  },
  {
   "cell_type": "code",
   "execution_count": 70,
   "id": "04b7a669-d308-402d-b6a9-e53b0591ec89",
   "metadata": {},
   "outputs": [
    {
     "name": "stdout",
     "output_type": "stream",
     "text": [
      "b       2\n",
      "c    wasd\n",
      "7       4\n",
      "dtype: object\n"
     ]
    }
   ],
   "source": [
    "data = pd.Series([1,2,'wasd',4], index = ['a','b','c',7])\n",
    "#print (data)\n",
    "#print (data['a'])\n",
    "#print (data['b':'d'])\n",
    "#print (data[7])\n",
    "print (data['b':7])"
   ]
  },
  {
   "cell_type": "code",
   "execution_count": 76,
   "id": "c69f82b4-31d6-4fec-9278-98404031cfec",
   "metadata": {},
   "outputs": [
    {
     "name": "stdout",
     "output_type": "stream",
     "text": [
      "city_1    101\n",
      "city_2    102\n",
      "city_3    103\n",
      "dtype: int64\n"
     ]
    }
   ],
   "source": [
    "population_dict = {\n",
    "    'city_1' : 101,\n",
    "    'city_2' : 102,\n",
    "    'city_3' : 103\n",
    "}\n",
    "\n",
    "population = pd.Series(population_dict)\n",
    "print(population)"
   ]
  },
  {
   "cell_type": "code",
   "execution_count": 78,
   "id": "1af10bbf-0f29-4581-a9f5-f479b8da184d",
   "metadata": {},
   "outputs": [],
   "source": [
    "# DataFrame - двумерный массив с явно определенными индексами. \n",
    "# Последовательность согласованных объектов Series"
   ]
  },
  {
   "cell_type": "code",
   "execution_count": 80,
   "id": "b3eb94e2-611b-436e-a45c-e3cf96500bb3",
   "metadata": {},
   "outputs": [
    {
     "name": "stdout",
     "output_type": "stream",
     "text": [
      "city_1    101\n",
      "city_2    102\n",
      "city_3    103\n",
      "dtype: int64\n",
      "city_1    200\n",
      "city_2    300\n",
      "city_3    400\n",
      "dtype: int64\n"
     ]
    }
   ],
   "source": [
    "population_dict = {\n",
    "    'city_1' : 101,\n",
    "    'city_2' : 102,\n",
    "    'city_3' : 103\n",
    "}\n",
    "\n",
    "area_dict = {\n",
    "    'city_1' : 200,\n",
    "    'city_2' : 300,\n",
    "    'city_3' : 400\n",
    "}\n",
    "population = pd.Series(population_dict)\n",
    "area = pd.Series(area_dict)\n",
    "\n",
    "print(population)\n",
    "print(area)"
   ]
  },
  {
   "cell_type": "code",
   "execution_count": 92,
   "id": "95ad6b1a-0c56-40cb-8d09-c922bfa96a33",
   "metadata": {},
   "outputs": [
    {
     "name": "stdout",
     "output_type": "stream",
     "text": [
      "        population1  area1\n",
      "city_1          101    200\n",
      "city_2          102    300\n",
      "city_3          103    400\n",
      "[[101 200]\n",
      " [102 300]\n",
      " [103 400]]\n",
      "Index(['city_1', 'city_2', 'city_3'], dtype='object')\n",
      "Index(['population1', 'area1'], dtype='object')\n"
     ]
    }
   ],
   "source": [
    "states = pd.DataFrame({\n",
    "    'population1': population,\n",
    "    'area1': area\n",
    "})\n",
    "print (states)\n",
    "print (states.values)\n",
    "print (states.index)\n",
    "print (states.columns)"
   ]
  },
  {
   "cell_type": "code",
   "execution_count": 96,
   "id": "413035a8-cc32-4f92-9d1f-941580770e80",
   "metadata": {},
   "outputs": [
    {
     "name": "stdout",
     "output_type": "stream",
     "text": [
      "city_1    101\n",
      "city_2    102\n",
      "city_3    103\n",
      "Name: population1, dtype: int64\n"
     ]
    }
   ],
   "source": [
    "print (states['population1'])"
   ]
  },
  {
   "cell_type": "code",
   "execution_count": 98,
   "id": "be381ee0-caa5-41da-93a1-80db7f29fe07",
   "metadata": {},
   "outputs": [],
   "source": [
    "# Index - способ организации ссылки на данные объектов Series и DataFrame.\n",
    "# Index неизменяем упорядочен, является мультимножеством (могут быть повторяющиеся значения)"
   ]
  },
  {
   "cell_type": "code",
   "execution_count": 100,
   "id": "98454c3b-67b3-49ad-867c-0caa9d2ef223",
   "metadata": {},
   "outputs": [
    {
     "name": "stdout",
     "output_type": "stream",
     "text": [
      "Index([2, 3, 4, 5], dtype='int64')\n"
     ]
    }
   ],
   "source": [
    "indA = pd.Index([1,2,3,4,5])\n",
    "indB = pd.Index([2,3,4,5,6])\n",
    "print(indA.intersection(indB)) # повторные элементы"
   ]
  },
  {
   "cell_type": "code",
   "execution_count": 110,
   "id": "b0c2dcac-67c9-467a-a535-e30038d458d5",
   "metadata": {},
   "outputs": [
    {
     "name": "stdout",
     "output_type": "stream",
     "text": [
      "True\n",
      "Index(['a', 'b', 'c', 'd'], dtype='object')\n",
      "[('a', 1), ('b', 2), ('c', 3), ('d', 4)]\n",
      "a    999\n",
      "b      2\n",
      "c      3\n",
      "d      4\n",
      "dtype: int64\n"
     ]
    }
   ],
   "source": [
    "# Выборка данных из Series\n",
    "data = pd.Series([1,2,3,4], index = ['a','b','c','d'])\n",
    "print ('a' in data)\n",
    "print (data.keys())\n",
    "print (list(data.items()))\n",
    "\n",
    "data['a'] = 999\n",
    "print (data)"
   ]
  },
  {
   "cell_type": "code",
   "execution_count": 118,
   "id": "8c82dde1-b60b-432d-a12f-542448b13c97",
   "metadata": {},
   "outputs": [
    {
     "name": "stdout",
     "output_type": "stream",
     "text": [
      "2\n",
      "2\n",
      "4\n"
     ]
    }
   ],
   "source": [
    "data = pd.Series([1,2,3,4], index = [1,3,7,'d'])\n",
    "print (data[3])\n",
    "print (data.loc[3])\n",
    "print (data.iloc[3])"
   ]
  },
  {
   "cell_type": "code",
   "execution_count": 124,
   "id": "a7ab5ab8-0837-4324-b2a0-4c481eef9e9f",
   "metadata": {},
   "outputs": [
    {
     "name": "stdout",
     "output_type": "stream",
     "text": [
      "             city_1  city_2  city_3  city_4\n",
      "population1   101.0   102.0   103.0     NaN\n",
      "area1         200.0   300.0   400.0   500.0\n"
     ]
    }
   ],
   "source": [
    "# Выборка данных из DataFrame\n",
    "\n",
    "population_dict = {\n",
    "    'city_1' : 101,\n",
    "    'city_2' : 102,\n",
    "    'city_3' : 103\n",
    "}\n",
    "area_dict = {\n",
    "    'city_1' : 200,\n",
    "    'city_2' : 300,\n",
    "    'city_3' : 400,\n",
    "    'city_4' : 500\n",
    "}\n",
    "\n",
    "population = pd.Series(population_dict)\n",
    "area = pd.Series(area_dict)\n",
    "\n",
    "data = pd.DataFrame({\n",
    "    'population1': population,\n",
    "    'area1': area\n",
    "})\n",
    "\n",
    "print (data.T)"
   ]
  },
  {
   "cell_type": "code",
   "execution_count": 128,
   "id": "13b34130-940c-45f1-b5a3-27e901b7f15e",
   "metadata": {},
   "outputs": [
    {
     "name": "stdout",
     "output_type": "stream",
     "text": [
      "15\n"
     ]
    }
   ],
   "source": [
    "# Способы хранения отсутствующих значений\n",
    "# - индикаторы NaN (not a number)\n",
    "# - null\n",
    "\n",
    "vall =np.array([1,2,3,4,5])\n",
    "print (vall.sum())"
   ]
  },
  {
   "cell_type": "code",
   "execution_count": 136,
   "id": "5e00f72f-abe8-43c3-aa47-b75c38afe9aa",
   "metadata": {},
   "outputs": [
    {
     "name": "stdout",
     "output_type": "stream",
     "text": [
      "nan\n",
      "12.0\n"
     ]
    }
   ],
   "source": [
    "vall =np.array([1,2,np.nan,4,5])\n",
    "print (vall.sum())\n",
    "print (np.nansum(vall))\n"
   ]
  },
  {
   "cell_type": "code",
   "execution_count": 142,
   "id": "59b86fec-8812-4605-ba62-79495c732f8a",
   "metadata": {},
   "outputs": [
    {
     "name": "stdout",
     "output_type": "stream",
     "text": [
      "0    NaN\n",
      "1    NaN\n",
      "2    2.0\n",
      "3    3.0\n",
      "4    4.0\n",
      "5    5.0\n",
      "6    6.0\n",
      "7    7.0\n",
      "8    8.0\n",
      "9    9.0\n",
      "dtype: float64\n"
     ]
    }
   ],
   "source": [
    "x = pd.Series(range(10), dtype=int)\n",
    "x[0] = np.nan\n",
    "x[1] = None\n",
    "print(x)"
   ]
  },
  {
   "cell_type": "code",
   "execution_count": 148,
   "id": "9693e64b-564b-4414-8a16-74b28a71063f",
   "metadata": {},
   "outputs": [
    {
     "name": "stdout",
     "output_type": "stream",
     "text": [
      "0     NaN\n",
      "1    None\n",
      "2       c\n",
      "dtype: object\n"
     ]
    }
   ],
   "source": [
    "x = pd.Series(['a','b','c'])\n",
    "x[0] = np.nan\n",
    "x[1] = None\n",
    "print(x)"
   ]
  },
  {
   "cell_type": "code",
   "execution_count": 170,
   "id": "abdafa25-ebbf-444e-91ed-321734483023",
   "metadata": {},
   "outputs": [
    {
     "name": "stdout",
     "output_type": "stream",
     "text": [
      "0    <NA>\n",
      "1       1\n",
      "2      65\n",
      "3       2\n",
      "4    <NA>\n",
      "5    <NA>\n",
      "dtype: Int32\n",
      "0     True\n",
      "1    False\n",
      "2    False\n",
      "3    False\n",
      "4     True\n",
      "5     True\n",
      "dtype: bool\n"
     ]
    }
   ],
   "source": [
    "x = pd.Series([np.nan, 1,65,2, None, np.nan], dtype='Int32')\n",
    "print(x)\n",
    "print(x.isnull())"
   ]
  },
  {
   "cell_type": "code",
   "execution_count": 214,
   "id": "6248a688-deb0-4c67-a1ca-267d88429201",
   "metadata": {},
   "outputs": [
    {
     "name": "stdout",
     "output_type": "stream",
     "text": [
      "1     1\n",
      "2    65\n",
      "3     2\n",
      "dtype: Int32\n"
     ]
    }
   ],
   "source": [
    "print(x.dropna())"
   ]
  },
  {
   "cell_type": "code",
   "execution_count": 194,
   "id": "c65e3f64-6549-4e91-938a-5b4975b913c5",
   "metadata": {},
   "outputs": [
    {
     "name": "stdout",
     "output_type": "stream",
     "text": [
      "        population1  area1    new\n",
      "city_1        101.0    200  101.0\n",
      "city_2        102.0    300  102.0\n",
      "city_3        103.0    400  103.0\n",
      "city_4          NaN    500    NaN\n"
     ]
    }
   ],
   "source": [
    "data['new'] = data['population1']\n",
    "print (data)"
   ]
  },
  {
   "cell_type": "code",
   "execution_count": 204,
   "id": "60fc8d0b-a5e4-4770-861c-3770ccf1f5f4",
   "metadata": {},
   "outputs": [
    {
     "name": "stdout",
     "output_type": "stream",
     "text": [
      "[[9 6 1 0]\n",
      " [0 9 3 4]\n",
      " [9 4 3 5]]\n"
     ]
    }
   ],
   "source": [
    "rng = np.random.default_rng()\n",
    "\n",
    "A = rng.integers(0,10, (3,4))\n",
    "print (A)"
   ]
  },
  {
   "cell_type": "code",
   "execution_count": 210,
   "id": "dd09ee57-2949-4f7f-a869-2805516d6613",
   "metadata": {},
   "outputs": [
    {
     "name": "stdout",
     "output_type": "stream",
     "text": [
      "   a  b  c  d\n",
      "0  9  6  1  0\n",
      "1  0  9  3  4\n",
      "2  9  4  3  5\n"
     ]
    }
   ],
   "source": [
    "df = pd.DataFrame(A, columns=['a','b','c','d'])\n",
    "print (df) "
   ]
  },
  {
   "cell_type": "code",
   "execution_count": 212,
   "id": "14b2084d-2417-4557-bb64-a8ff97417661",
   "metadata": {},
   "outputs": [
    {
     "name": "stdout",
     "output_type": "stream",
     "text": [
      "   a  b  c  d\n",
      "0  0  0  0  0\n",
      "1 -9  3  2  4\n",
      "2  0 -2  2  5\n"
     ]
    }
   ],
   "source": [
    "print (df - A[0]) # транслирование"
   ]
  },
  {
   "cell_type": "code",
   "execution_count": null,
   "id": "96194627-76dc-4c2e-82ba-0a72f0103ea7",
   "metadata": {},
   "outputs": [],
   "source": []
  }
 ],
 "metadata": {
  "kernelspec": {
   "display_name": "Python 3 (ipykernel)",
   "language": "python",
   "name": "python3"
  },
  "language_info": {
   "codemirror_mode": {
    "name": "ipython",
    "version": 3
   },
   "file_extension": ".py",
   "mimetype": "text/x-python",
   "name": "python",
   "nbconvert_exporter": "python",
   "pygments_lexer": "ipython3",
   "version": "3.12.7"
  }
 },
 "nbformat": 4,
 "nbformat_minor": 5
}
